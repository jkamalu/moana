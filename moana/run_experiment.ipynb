{
 "cells": [
  {
   "cell_type": "code",
   "execution_count": null,
   "metadata": {
    "nbpresent": {
     "id": "e339b0b9-7ac2-45f7-ac3a-2eaa89be59c1"
    }
   },
   "outputs": [],
   "source": [
    "import os\n",
    "\n",
    "import torch\n",
    "from torch.utils.data import DataLoader\n",
    "from torchvision import transforms\n",
    "\n",
    "from ignite.engine import Events, create_supervised_trainer, create_supervised_evaluator\n",
    "from ignite.metrics import (\n",
    "    Accuracy, \n",
    "    Loss,\n",
    "    Fbeta, \n",
    "    DiceCoefficient, \n",
    "    ConfusionMatrix\n",
    ")\n",
    "\n",
    "from data.utils import root\n",
    "from data.dataset import MoanaDataset\n",
    "from data.transform import (\n",
    "    ToPILImage,\n",
    "    RandomHorizontalFlip,\n",
    "    RandomVerticalFlip,\n",
    "    RandomDiscreteRotation,\n",
    "    RandomCrop,\n",
    "    ToTensor\n",
    ")\n",
    "from data.plot import imshow_image, imshow_label\n",
    "\n",
    "from model.modules import RDUNet\n",
    "\n",
    "%load_ext autoreload\n",
    "%autoreload 2"
   ]
  },
  {
   "cell_type": "code",
   "execution_count": null,
   "metadata": {},
   "outputs": [],
   "source": [
    "device = torch.device(\"cuda:0\" if torch.cuda.is_available() else \"cpu\")"
   ]
  },
  {
   "cell_type": "markdown",
   "metadata": {
    "nbpresent": {
     "id": "50b3a90e-51f1-4127-aa92-e23e0a6d9348"
    }
   },
   "source": [
    "## Build the Dataset and DataLoader"
   ]
  },
  {
   "cell_type": "code",
   "execution_count": null,
   "metadata": {
    "nbpresent": {
     "id": "91acf678-7534-41a3-8220-61d08ec009f6"
    }
   },
   "outputs": [],
   "source": [
    "XY_data = MoanaDataset(\n",
    "    os.path.join(root(), \"nccos\", \"2007\"), \n",
    "    (512, 512), \n",
    "    transform=transforms.Compose([\n",
    "        ToPILImage(),\n",
    "        RandomHorizontalFlip(),\n",
    "        RandomVerticalFlip(),\n",
    "        RandomDiscreteRotation([0, 90, 180, 270]),\n",
    "        RandomCrop((256, 256)),\n",
    "        ToTensor(),\n",
    "        transforms.Lambda(lambda data: (data[0], data[1].squeeze(0).long()))\n",
    "    ])\n",
    ")\n",
    "\n",
    "XY_train, XY_valid = MoanaDataset.split(XY_data, 0.8)\n",
    "\n",
    "XY_load_train = DataLoader(\n",
    "    XY_train, \n",
    "    batch_size=8,\n",
    "    shuffle=True, \n",
    "    num_workers=4\n",
    ")\n",
    "\n",
    "XY_load_valid = DataLoader(\n",
    "    XY_valid, \n",
    "    batch_size=8,\n",
    "    shuffle=True, \n",
    "    num_workers=4\n",
    ")"
   ]
  },
  {
   "cell_type": "markdown",
   "metadata": {
    "nbpresent": {
     "id": "13d9d0d7-606b-434d-b050-f4beea37416c"
    }
   },
   "source": [
    "#### Display 1 batch"
   ]
  },
  {
   "cell_type": "code",
   "execution_count": null,
   "metadata": {
    "nbpresent": {
     "id": "c56a8025-bbf8-4426-807b-c139d0dbbb07"
    }
   },
   "outputs": [],
   "source": [
    "images, labels = next(iter(XY_load_train))\n",
    "imshow_image(images, 4)\n",
    "imshow_label(labels, 4)"
   ]
  },
  {
   "cell_type": "markdown",
   "metadata": {
    "nbpresent": {
     "id": "5ef1a1eb-6911-4915-8158-fd731fe45408"
    }
   },
   "source": [
    "## Build the Model, Loss, and Optimization"
   ]
  },
  {
   "cell_type": "code",
   "execution_count": null,
   "metadata": {
    "nbpresent": {
     "id": "c916908d-dee1-4fff-80bc-31d5f32150d5"
    }
   },
   "outputs": [],
   "source": [
    "model = RDUNet(next(iter(XY_load_train))[0].shape[1:], 4, channels=32, depth=5)\n",
    "\n",
    "model.to(device)\n",
    "\n",
    "optimizer = torch.optim.Adam(model.parameters(), lr=1e-4, weight_decay=1e-5)\n",
    "\n",
    "def loss_func(Y_hat, Y):\n",
    "    loss = torch.nn.functional.cross_entropy(Y_hat, Y.squeeze(1).long())\n",
    "    return loss"
   ]
  },
  {
   "cell_type": "markdown",
   "metadata": {
    "nbpresent": {
     "id": "609bab14-eb4b-42b8-b327-2ace079648aa"
    }
   },
   "source": [
    "#### Run on 1 sample"
   ]
  },
  {
   "cell_type": "code",
   "execution_count": null,
   "metadata": {
    "nbpresent": {
     "id": "8b20a314-35ad-4446-aa32-c5aded9cea5b"
    }
   },
   "outputs": [],
   "source": [
    "with torch.no_grad():\n",
    "    output = model(next(iter(XY_load_train))[0][0].unsqueeze(0).to(device))\n",
    "print(output.shape)"
   ]
  },
  {
   "cell_type": "markdown",
   "metadata": {
    "nbpresent": {
     "id": "d621c41c-da23-4f6d-b2c6-e50f6ad090f9"
    }
   },
   "source": [
    "#### Get the loss "
   ]
  },
  {
   "cell_type": "code",
   "execution_count": null,
   "metadata": {
    "nbpresent": {
     "id": "c046332b-95b4-4cf6-9871-6504d851dc0f"
    }
   },
   "outputs": [],
   "source": [
    "loss = loss_func(output, labels[0].unsqueeze(0).to(device))\n",
    "print(loss)"
   ]
  },
  {
   "cell_type": "markdown",
   "metadata": {
    "nbpresent": {
     "id": "10b7129b-2805-4b80-ad55-aa2a48ad6d2f"
    }
   },
   "source": [
    "## Build the Training Loop"
   ]
  },
  {
   "cell_type": "code",
   "execution_count": null,
   "metadata": {
    "nbpresent": {
     "id": "e8083116-f7e6-4151-8adb-65f8398d41e3"
    }
   },
   "outputs": [],
   "source": [
    "trainer = create_supervised_trainer(\n",
    "    model, \n",
    "    optimizer, \n",
    "    loss_func,\n",
    "    device=device\n",
    ")\n",
    "\n",
    "evaluator = create_supervised_evaluator(\n",
    "    model,\n",
    "    metrics={\n",
    "        'loss': Loss(loss_func),\n",
    "        'f1': Fbeta(1)\n",
    "    },\n",
    "    device=device\n",
    ")\n",
    "\n",
    "@trainer.on(Events.ITERATION_COMPLETED)\n",
    "def log_training_loss(trainer):\n",
    "    print(\"Epoch[{}] Loss: {:.2f}\".format(trainer.state.epoch, trainer.state.output))\n",
    "\n",
    "@trainer.on(Events.EPOCH_COMPLETED)\n",
    "def log_training_results(trainer):\n",
    "    evaluator.run(XY_load_train)\n",
    "    metrics = evaluator.state.metrics\n",
    "    print(\"Training Results - Epoch: {}  Avg Loss: {:.2f} Avg F1: {}\"\n",
    "          .format(trainer.state.epoch, metrics['loss'], metrics['f1']))\n",
    "\n",
    "@trainer.on(Events.EPOCH_COMPLETED)\n",
    "def log_validation_results(trainer):\n",
    "    evaluator.run(XY_load_valid)\n",
    "    metrics = evaluator.state.metrics\n",
    "    print(\"Validation Results - Epoch: {}  Avg Loss: {:.2f} Avg F1: {}\"\n",
    "          .format(trainer.state.epoch, metrics['loss'], metrics['f1']))\n"
   ]
  },
  {
   "cell_type": "code",
   "execution_count": null,
   "metadata": {
    "scrolled": false
   },
   "outputs": [],
   "source": [
    "trainer.run(XY_load_train, max_epochs=10)"
   ]
  },
  {
   "cell_type": "markdown",
   "metadata": {},
   "source": [
    "#### Run on 1 train sample"
   ]
  },
  {
   "cell_type": "code",
   "execution_count": null,
   "metadata": {
    "nbpresent": {
     "id": "2c7c9c1a-fc6d-446d-9b23-ce0fb2dee3b0"
    }
   },
   "outputs": [],
   "source": [
    "img, lab = next(iter(XY_load_train))\n",
    "\n",
    "output = model(img[0].unsqueeze(0).to(device))\n",
    "imshow_image(img[0].unsqueeze(0).cpu().detach(), 4)\n",
    "imshow_label(lab[0].unsqueeze(0).cpu().detach(), 4)\n",
    "imshow_label(torch.argmax(output.cpu().detach(), dim=1), 4)"
   ]
  },
  {
   "cell_type": "markdown",
   "metadata": {},
   "source": [
    "#### Run on 1 validation sample"
   ]
  },
  {
   "cell_type": "code",
   "execution_count": null,
   "metadata": {},
   "outputs": [],
   "source": [
    "img, lab = next(iter(XY_load_valid))\n",
    "\n",
    "output = model(img[0].unsqueeze(0).to(device))\n",
    "imshow_image(img[0].unsqueeze(0).cpu().detach(), 4)\n",
    "imshow_label(lab[0].unsqueeze(0).cpu().detach(), 4)\n",
    "imshow_label(torch.argmax(output.cpu().detach(), dim=1), 4)"
   ]
  },
  {
   "cell_type": "code",
   "execution_count": null,
   "metadata": {},
   "outputs": [],
   "source": []
  }
 ],
 "metadata": {
  "kernelspec": {
   "display_name": "Python 3",
   "language": "python",
   "name": "python3"
  },
  "language_info": {
   "codemirror_mode": {
    "name": "ipython",
    "version": 3
   },
   "file_extension": ".py",
   "mimetype": "text/x-python",
   "name": "python",
   "nbconvert_exporter": "python",
   "pygments_lexer": "ipython3",
   "version": "3.7.6"
  }
 },
 "nbformat": 4,
 "nbformat_minor": 4
}
