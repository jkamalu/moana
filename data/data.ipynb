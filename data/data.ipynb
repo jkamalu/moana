{
 "cells": [
  {
   "cell_type": "markdown",
   "metadata": {},
   "source": [
    "## ArcGIS Notes:\n",
    "\n",
    "### Feature Class Basics: \n",
    "* [Link](https://desktop.arcgis.com/en/arcmap/10.3/manage-data/geodatabases/feature-class-basics.htm)\n",
    "\n",
    "### Reading Geometries: \n",
    "* [Link](http://resources.arcgis.com/en/help/main/10.1/index.html#//002z0000001t000000)"
   ]
  },
  {
   "cell_type": "code",
   "execution_count": null,
   "metadata": {},
   "outputs": [],
   "source": [
    "import os\n",
    "import math\n",
    "\n",
    "import numpy as np\n",
    "import pandas as pd\n",
    "\n",
    "import arcpy\n",
    "import arcgis\n",
    "\n",
    "import utils\n",
    "\n",
    "%load_ext autoreload\n",
    "%autoreload 2"
   ]
  },
  {
   "cell_type": "code",
   "execution_count": null,
   "metadata": {},
   "outputs": [],
   "source": [
    "config = utils.load_config(\"config.yml\")"
   ]
  },
  {
   "cell_type": "code",
   "execution_count": null,
   "metadata": {},
   "outputs": [],
   "source": [
    "polygons = {}\n",
    "for island in config[\"islands\"]:\n",
    "    path = utils.path_to_shoreline(island)\n",
    "    pair = max(arcpy.da.TableToNumPyArray(path, [\"OID@\", \"SHAPE@AREA\"]), key=lambda p: p[1])\n",
    "    poly = arcpy.da.SearchCursor(path, [\"SHAPE@\"], where_clause=f\"FID = {pair[0]}\").next()[0]\n",
    "    polygons[island] = poly"
   ]
  },
  {
   "cell_type": "code",
   "execution_count": null,
   "metadata": {},
   "outputs": [],
   "source": [
    "rectangles = []\n",
    "\n",
    "size = config[\"pix_res\"] * config[\"data_extraction\"][\"pix_dim\"] + config[\"data_extraction\"][\"pix_pad\"]\n",
    "step = int(size * (1 - config[\"data_extraction\"][\"overlap\"]))\n",
    "\n",
    "for island, polygon in polygons.items():\n",
    "    \n",
    "    rectangles.append([])\n",
    "    \n",
    "    polyline = polygon.boundary()\n",
    "    polyline_perimeter = int(polyline.getLength(\"PLANAR\", \"METERS\"))\n",
    "    print(\"Perimeter: {0:.2f}\".format(polyline_perimeter))\n",
    "\n",
    "    spatial_reference = polygon.spatialReference\n",
    "    point_A = arcpy.PointGeometry(polyline.firstPoint).projectAs(spatial_reference)\n",
    "    \n",
    "    for perimeter_position in range(0, polyline_perimeter, step):\n",
    "        \n",
    "        if len(rectangles[-1]) % 100 == 0:\n",
    "            N, percentage = len(rectangles[-1]), perimeter_position / polyline_perimeter\n",
    "            print(\"{0} rectangles collected, {1:.2f}% complete.\".format(N, percentage))\n",
    "        \n",
    "        multipoint = point_A.buffer(size).boundary().intersect(polyline, 1)\n",
    "                            \n",
    "        point_B, _ = sorted(\n",
    "            map(lambda pt: (pt, polyline.measureOnLine(pt)), multipoint), \n",
    "            key=lambda x: (x[1] < perimeter_position, x[1] - perimeter_position)\n",
    "        )[0]\n",
    "\n",
    "        point_B = arcpy.PointGeometry(point_B).projectAs(spatial_reference)\n",
    "        \n",
    "        assert math.isclose(point_A.distanceTo(point_B), size, rel_tol=10) # high rel_tol for high variance estimate\n",
    "        \n",
    "        line_AB = arcpy.Polyline(arcpy.Array([point_A.firstPoint, point_B.firstPoint])).projectAs(spatial_reference)\n",
    "        \n",
    "        point_C = utils.isoscelese_vertex_point(line_AB, size * 2.0)\n",
    "        \n",
    "        triangle = arcpy.Polyline(arcpy.Array([point_A.firstPoint, point_B.firstPoint, point_C.firstPoint]))\n",
    "                \n",
    "        rectangles[-1].append(triangle.hullRectangle)\n",
    "        \n",
    "        point_A = polyline.positionAlongLine(perimeter_position)\n",
    "        "
   ]
  },
  {
   "cell_type": "code",
   "execution_count": null,
   "metadata": {},
   "outputs": [],
   "source": [
    "shorelines = [[] for _ in range(len(polygons))]\n",
    "for i, polygon in enumerate(polygons):\n",
    "    for section in polygon:\n",
    "        for point in section:\n",
    "            if point:\n",
    "                shorelines[i].append([float(point.X), float(point.Y)])\n",
    "            else:\n",
    "                raise ValueError(\"Please ensure all shoreline Polygons have had internal polygons removed. +\\\n",
    "                                  See \\'remove_inner_polygon\\' in data/utils for more info.\")\n",
    "    shorelines[i] = np.array(shorelines[i])"
   ]
  },
  {
   "cell_type": "code",
   "execution_count": null,
   "metadata": {
    "scrolled": false
   },
   "outputs": [],
   "source": [
    "for i, shoreline in enumerate(shorelines):\n",
    "    dist = np.concatenate([np.linalg.norm(shoreline[:-1] - shoreline[1:], axis=1), [0]])[:, None]\n",
    "    stats = pd.DataFrame(np.concatenate([\n",
    "        shoreline,\n",
    "        dist,\n",
    "        dist / 4\n",
    "    ], axis=1), columns=[\"X\", \"Y\", \"dist (m)\", \"dist (px)\"])\n",
    "    print(f\"stats for {islands[i]}\")\n",
    "    display(stats.describe())\n"
   ]
  }
 ],
 "metadata": {
  "kernelspec": {
   "display_name": "Python 3",
   "language": "python",
   "name": "python3"
  },
  "language_info": {
   "codemirror_mode": {
    "name": "ipython",
    "version": 3
   },
   "file_extension": ".py",
   "mimetype": "text/x-python",
   "name": "python",
   "nbconvert_exporter": "python",
   "pygments_lexer": "ipython3",
   "version": "3.6.10"
  }
 },
 "nbformat": 4,
 "nbformat_minor": 4
}
