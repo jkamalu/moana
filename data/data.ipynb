{
 "cells": [
  {
   "cell_type": "markdown",
   "metadata": {},
   "source": [
    "## ArcGIS Processing Scripts"
   ]
  },
  {
   "cell_type": "code",
   "execution_count": 2,
   "metadata": {},
   "outputs": [],
   "source": [
    "import os\n",
    "import math\n",
    "\n",
    "import numpy as np\n",
    "import pandas as pd\n",
    "\n",
    "import arcpy\n",
    "import arcgis\n",
    "\n",
    "import utils\n",
    "\n",
    "%load_ext autoreload\n",
    "%autoreload 2"
   ]
  },
  {
   "cell_type": "code",
   "execution_count": 3,
   "metadata": {},
   "outputs": [],
   "source": [
    "config = utils.load_config(\"config.yml\")"
   ]
  },
  {
   "cell_type": "code",
   "execution_count": 4,
   "metadata": {},
   "outputs": [],
   "source": [
    "def features(op, island, source=\"nccos\", year=\"2007\", ext=None):\n",
    "    if ext is None:\n",
    "        return os.path.join(utils.ROOT(), source, year, \"output\", op, island)\n",
    "    return \"{}{}{}\".format(os.path.join(utils.ROOT(), source, year, \"output\", op, island), os.extsep, ext)"
   ]
  },
  {
   "cell_type": "markdown",
   "metadata": {},
   "source": [
    "### Trim polygons"
   ]
  },
  {
   "cell_type": "code",
   "execution_count": null,
   "metadata": {},
   "outputs": [],
   "source": [
    "def polygon_trim(islands):\n",
    "    for island in islands:\n",
    "        path = utils.path_to_shoreline(island)\n",
    "        pair = max(arcpy.da.TableToNumPyArray(path, [\"OID@\", \"SHAPE@AREA\"]), key=lambda p: p[1])\n",
    "        with arcpy.da.UpdateCursor(path, [\"OID@\"]) as cursor:\n",
    "            for row in cursor:\n",
    "                if row[0] != pair[0]:\n",
    "                    cursor.deleteRow()"
   ]
  },
  {
   "cell_type": "markdown",
   "metadata": {},
   "source": [
    "### Buffer analysis – Polygon\n",
    "\n",
    "https://desktop.arcgis.com/en/arcmap/10.3/tools/analysis-toolbox/buffer.htm"
   ]
  },
  {
   "cell_type": "code",
   "execution_count": null,
   "metadata": {},
   "outputs": [],
   "source": [
    "def buffer_polygon(islands, config):\n",
    "    size = config[\"pix_res\"] * config[\"data_extraction\"][\"pix_dim\"]\n",
    "\n",
    "    for island in islands:\n",
    "        \n",
    "        in_features = utils.path_to_shoreline(island)\n",
    "        out_features = features(\"polygon_buffer\", island)\n",
    "        \n",
    "        os.makedirs(os.path.dirname(out_features), exist_ok=True)\n",
    "\n",
    "        arcpy.Buffer_analysis(\n",
    "            in_features, \n",
    "            out_features, \n",
    "            buffer_distance_or_field=\"{} METERS\".format(size // 2), \n",
    "            line_side=\"OUTSIDE_ONLY\", \n",
    "            dissolve_option=\"ALL\"\n",
    "        )\n",
    "        \n",
    "buffer_polygon([\"oahu\"], config)"
   ]
  },
  {
   "cell_type": "markdown",
   "metadata": {},
   "source": [
    "### Eliminate polygon parts\n",
    "\n",
    "https://desktop.arcgis.com/en/arcmap/10.3/tools/data-management-toolbox/eliminate-polygon-part.htm"
   ]
  },
  {
   "cell_type": "code",
   "execution_count": null,
   "metadata": {},
   "outputs": [],
   "source": [
    "def eliminate_polygon_parts(islands, config):\n",
    "    for island in islands:\n",
    "        \n",
    "        in_features = features(\"polygon_buffer\", island, ext=\"shp\")\n",
    "        out_features = features(\"polygon_eliminate\", island)\n",
    "\n",
    "        os.makedirs(os.path.dirname(out_features), exist_ok=True)\n",
    "\n",
    "        arcpy.EliminatePolygonPart_management(\n",
    "            in_features, \n",
    "            out_features, \n",
    "            condition=\"AREA_OR_PERCENT\",\n",
    "            part_area_percent=99, \n",
    "            part_option=\"ANY\"\n",
    "        )\n",
    "\n",
    "eliminate_polygon_parts([\"oahu\"], config)"
   ]
  },
  {
   "cell_type": "markdown",
   "metadata": {},
   "source": [
    "### Generate points along line\n",
    "\n",
    "https://pro.arcgis.com/en/pro-app/tool-reference/data-management/generate-points-along-lines.htm"
   ]
  },
  {
   "cell_type": "code",
   "execution_count": null,
   "metadata": {},
   "outputs": [],
   "source": [
    "def generate_points_along_lines(islands, config):\n",
    "    size = config[\"pix_res\"] * config[\"data_extraction\"][\"pix_dim\"]\n",
    "    step = int(size * (1 - config[\"data_extraction\"][\"overlap\"]))\n",
    "\n",
    "    for island in islands:\n",
    "\n",
    "        in_features = features(\"polygon_eliminate\", island, ext=\"shp\")\n",
    "        out_features = features(\"point\", island)\n",
    "\n",
    "        os.makedirs(os.path.dirname(out_features), exist_ok=True)        \n",
    "        \n",
    "        arcpy.GeneratePointsAlongLines_management(\n",
    "            in_features, \n",
    "            out_features,\n",
    "            Point_Placement=\"DISTANCE\", \n",
    "            Distance=\"{} METERS\".format(step), \n",
    "        )\n",
    "\n",
    "generate_points_along_lines([\"oahu\"], config)"
   ]
  },
  {
   "cell_type": "markdown",
   "metadata": {},
   "source": [
    "### Buffer analysis – Point\n",
    "\n",
    "https://desktop.arcgis.com/en/arcmap/10.3/tools/analysis-toolbox/buffer.htm"
   ]
  },
  {
   "cell_type": "code",
   "execution_count": null,
   "metadata": {},
   "outputs": [],
   "source": [
    "def buffer_point(islands, config):\n",
    "    size = config[\"pix_res\"] * config[\"data_extraction\"][\"pix_dim\"]\n",
    "\n",
    "    for island in islands:\n",
    "        \n",
    "        in_features = features(\"point\", island, ext=\"shp\")\n",
    "        out_features = features(\"point_buffer\", island)\n",
    "        \n",
    "        os.makedirs(os.path.dirname(out_features), exist_ok=True)\n",
    "\n",
    "        arcpy.Buffer_analysis(\n",
    "            in_features, \n",
    "            out_features,\n",
    "            buffer_distance_or_field=\"{} METERS\".format(size // 2)\n",
    "        )\n",
    "        \n",
    "buffer_point([\"oahu\"], config)"
   ]
  },
  {
   "cell_type": "markdown",
   "metadata": {},
   "source": [
    "### Feature envelope to polygon\n",
    "\n",
    "https://desktop.arcgis.com/en/arcmap/10.3/tools/data-management-toolbox/feature-envelope-to-polygon.htm\n"
   ]
  },
  {
   "cell_type": "code",
   "execution_count": 5,
   "metadata": {},
   "outputs": [],
   "source": [
    "def feature_envelope_to_polygon(islands, config):\n",
    "    for island in islands:\n",
    "        in_features = features(\"point_buffer\", island, ext=\"shp\")\n",
    "        out_features = features(\"rectangles\", island)\n",
    "        os.makedirs(os.path.dirname(out_features), exist_ok=True)\n",
    "        arcpy.FeatureEnvelopeToPolygon_management(\n",
    "            in_features,\n",
    "            out_features\n",
    "        )\n",
    "        \n",
    "envelope_to_polygon([\"oahu\"], config)"
   ]
  },
  {
   "cell_type": "code",
   "execution_count": null,
   "metadata": {},
   "outputs": [],
   "source": []
  },
  {
   "cell_type": "code",
   "execution_count": null,
   "metadata": {},
   "outputs": [],
   "source": []
  },
  {
   "cell_type": "code",
   "execution_count": null,
   "metadata": {},
   "outputs": [],
   "source": []
  },
  {
   "cell_type": "code",
   "execution_count": null,
   "metadata": {},
   "outputs": [],
   "source": []
  },
  {
   "cell_type": "code",
   "execution_count": null,
   "metadata": {},
   "outputs": [],
   "source": [
    "rectangles = []\n",
    "\n",
    "size = config[\"pix_res\"] * config[\"data_extraction\"][\"pix_dim\"] + config[\"data_extraction\"][\"pix_pad\"]\n",
    "step = int(size * (1 - config[\"data_extraction\"][\"overlap\"]))\n",
    "\n",
    "for island, polygon in polygons.items():\n",
    "    \n",
    "    rectangles.append([])\n",
    "    \n",
    "    polyline = polygon.boundary()\n",
    "    polyline_perimeter = int(polyline.getLength(\"PLANAR\", \"METERS\"))\n",
    "    print(\"Perimeter: {0:.2f}\".format(polyline_perimeter))\n",
    "\n",
    "    spatial_reference = polygon.spatialReference\n",
    "    point_A = arcpy.PointGeometry(polyline.firstPoint).projectAs(spatial_reference)\n",
    "    \n",
    "    for perimeter_position in range(0, polyline_perimeter, step):\n",
    "        \n",
    "        if len(rectangles[-1]) % 100 == 0:\n",
    "            N, percentage = len(rectangles[-1]), perimeter_position / polyline_perimeter\n",
    "            print(\"{0} rectangles collected, {1:.2f}% complete.\".format(N, percentage))\n",
    "        \n",
    "        multipoint = point_A.buffer(size).boundary().intersect(polyline, 1)\n",
    "                            \n",
    "        point_B, _ = sorted(\n",
    "            map(lambda pt: (pt, polyline.measureOnLine(pt)), multipoint), \n",
    "            key=lambda x: (x[1] < perimeter_position, x[1] - perimeter_position)\n",
    "        )[0]\n",
    "\n",
    "        point_B = arcpy.PointGeometry(point_B).projectAs(spatial_reference)\n",
    "        \n",
    "        assert math.isclose(point_A.distanceTo(point_B), size, rel_tol=10) # high rel_tol for high variance estimate\n",
    "        \n",
    "        line_AB = arcpy.Polyline(arcpy.Array([point_A.firstPoint, point_B.firstPoint])).projectAs(spatial_reference)\n",
    "        \n",
    "        point_C = utils.isoscelese_vertex_point(line_AB, size * 2.0)\n",
    "        \n",
    "        triangle = arcpy.Polyline(arcpy.Array([point_A.firstPoint, point_B.firstPoint, point_C.firstPoint]))\n",
    "                \n",
    "        rectangles[-1].append(triangle.hullRectangle)\n",
    "        \n",
    "        point_A = polyline.positionAlongLine(perimeter_position)\n",
    "        "
   ]
  }
 ],
 "metadata": {
  "kernelspec": {
   "display_name": "Python 3",
   "language": "python",
   "name": "python3"
  },
  "language_info": {
   "codemirror_mode": {
    "name": "ipython",
    "version": 3
   },
   "file_extension": ".py",
   "mimetype": "text/x-python",
   "name": "python",
   "nbconvert_exporter": "python",
   "pygments_lexer": "ipython3",
   "version": "3.6.8"
  }
 },
 "nbformat": 4,
 "nbformat_minor": 4
}
